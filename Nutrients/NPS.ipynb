{
 "cells": [
  {
   "cell_type": "code",
   "execution_count": 31,
   "id": "retired-trinidad",
   "metadata": {},
   "outputs": [],
   "source": [
    "import numpy as np\n",
    "import matplotlib.pyplot as plt\n",
    "%matplotlib inline\n",
    "import xarray as xr\n",
    "import cartopy\n",
    "import pandas as pn\n",
    "from datetime import datetime\n",
    "import gsw\n",
    "from holteandtalley import HolteAndTalley\n",
    "import os\n",
    "from xmovie import Movie\n",
    "from shapely.geometry import Polygon, Point, MultiPolygon\n",
    "import shapefile\n",
    "import geopandas as gpd\n",
    "import cartopy\n",
    "import cartopy.crs as ccrs"
   ]
  },
  {
   "cell_type": "markdown",
   "id": "technical-grounds",
   "metadata": {},
   "source": [
    "## Opening the Phosphate Data from the World Ocean Database"
   ]
  },
  {
   "cell_type": "code",
   "execution_count": 2,
   "id": "diverse-formation",
   "metadata": {},
   "outputs": [],
   "source": [
    "# First set up the dataframe with the initial netcdf\n",
    "array = xr.open_dataset(\"/Users/nyelab/Downloads/ocldb1625068230.20558.OSD/wod_013574410O.nc\")\n",
    "data = pn.DataFrame(data = array.Phosphate, columns = ['phosphate'])\n",
    "k=1\n",
    "data['depth'] = array.z.values \n",
    "year = pn.to_datetime(array.time.values).year\n",
    "month = pn.to_datetime(array.time.values).month\n",
    "day = pn.to_datetime(array.time.values).day\n",
    "data['year']=year\n",
    "data['month']=month\n",
    "data['day']=day\n",
    "data['lat']=array.lat.values\n",
    "data['lon']=array.lon.values\n",
    "data['station']=k"
   ]
  },
  {
   "cell_type": "code",
   "execution_count": 3,
   "id": "simple-clinton",
   "metadata": {},
   "outputs": [],
   "source": [
    "# Next cycle through all netcdfs and append new data to the dataframe\n",
    "k=2\n",
    "for i in os.listdir(\"/Users/nyelab/Downloads/ocldb1625068230.20558.OSD/\"):\n",
    "    if i.startswith(\"wo\"):\n",
    "        string = '/Users/nyelab/Downloads/ocldb1625068230.20558.OSD/'+i\n",
    "        array = xr.open_dataset(string)\n",
    "        data2 = pn.DataFrame(data = array.Phosphate, columns = ['phosphate'])\n",
    "        data2['depth'] = array.z.values \n",
    "        year = pn.to_datetime(array.time.values).year\n",
    "        month = pn.to_datetime(array.time.values).month\n",
    "        day = pn.to_datetime(array.time.values).day\n",
    "        data2['year']=year\n",
    "        data2['month']=month\n",
    "        data2['day']=day\n",
    "        data2['lat']=array.lat.values\n",
    "        data2['lon']=array.lon.values\n",
    "        data2['station']=k\n",
    "        k=k+1\n",
    "        data = data.append(data2)\n",
    "        array.close()"
   ]
  },
  {
   "cell_type": "code",
   "execution_count": 4,
   "id": "dried-interval",
   "metadata": {},
   "outputs": [
    {
     "data": {
      "text/html": [
       "<div>\n",
       "<style scoped>\n",
       "    .dataframe tbody tr th:only-of-type {\n",
       "        vertical-align: middle;\n",
       "    }\n",
       "\n",
       "    .dataframe tbody tr th {\n",
       "        vertical-align: top;\n",
       "    }\n",
       "\n",
       "    .dataframe thead th {\n",
       "        text-align: right;\n",
       "    }\n",
       "</style>\n",
       "<table border=\"1\" class=\"dataframe\">\n",
       "  <thead>\n",
       "    <tr style=\"text-align: right;\">\n",
       "      <th></th>\n",
       "      <th>index</th>\n",
       "      <th>phosphate</th>\n",
       "      <th>depth</th>\n",
       "      <th>year</th>\n",
       "      <th>month</th>\n",
       "      <th>day</th>\n",
       "      <th>lat</th>\n",
       "      <th>lon</th>\n",
       "      <th>station</th>\n",
       "    </tr>\n",
       "  </thead>\n",
       "  <tbody>\n",
       "    <tr>\n",
       "      <th>0</th>\n",
       "      <td>0</td>\n",
       "      <td>6.200000e-02</td>\n",
       "      <td>4.056877</td>\n",
       "      <td>2007</td>\n",
       "      <td>7</td>\n",
       "      <td>26</td>\n",
       "      <td>39.349201</td>\n",
       "      <td>-74.085197</td>\n",
       "      <td>1</td>\n",
       "    </tr>\n",
       "    <tr>\n",
       "      <th>1</th>\n",
       "      <td>1</td>\n",
       "      <td>-1.000000e+10</td>\n",
       "      <td>4.190848</td>\n",
       "      <td>2007</td>\n",
       "      <td>7</td>\n",
       "      <td>26</td>\n",
       "      <td>39.349201</td>\n",
       "      <td>-74.085197</td>\n",
       "      <td>1</td>\n",
       "    </tr>\n",
       "    <tr>\n",
       "      <th>2</th>\n",
       "      <td>2</td>\n",
       "      <td>-1.000000e+10</td>\n",
       "      <td>4.332758</td>\n",
       "      <td>2007</td>\n",
       "      <td>7</td>\n",
       "      <td>26</td>\n",
       "      <td>39.349201</td>\n",
       "      <td>-74.085197</td>\n",
       "      <td>1</td>\n",
       "    </tr>\n",
       "    <tr>\n",
       "      <th>3</th>\n",
       "      <td>3</td>\n",
       "      <td>7.800002e-02</td>\n",
       "      <td>10.047769</td>\n",
       "      <td>2007</td>\n",
       "      <td>7</td>\n",
       "      <td>26</td>\n",
       "      <td>39.349201</td>\n",
       "      <td>-74.085197</td>\n",
       "      <td>1</td>\n",
       "    </tr>\n",
       "    <tr>\n",
       "      <th>4</th>\n",
       "      <td>4</td>\n",
       "      <td>-1.000000e+10</td>\n",
       "      <td>10.091433</td>\n",
       "      <td>2007</td>\n",
       "      <td>7</td>\n",
       "      <td>26</td>\n",
       "      <td>39.349201</td>\n",
       "      <td>-74.085197</td>\n",
       "      <td>1</td>\n",
       "    </tr>\n",
       "    <tr>\n",
       "      <th>...</th>\n",
       "      <td>...</td>\n",
       "      <td>...</td>\n",
       "      <td>...</td>\n",
       "      <td>...</td>\n",
       "      <td>...</td>\n",
       "      <td>...</td>\n",
       "      <td>...</td>\n",
       "      <td>...</td>\n",
       "      <td>...</td>\n",
       "    </tr>\n",
       "    <tr>\n",
       "      <th>1615</th>\n",
       "      <td>14</td>\n",
       "      <td>1.131707e+00</td>\n",
       "      <td>1774.000000</td>\n",
       "      <td>1982</td>\n",
       "      <td>6</td>\n",
       "      <td>13</td>\n",
       "      <td>38.208332</td>\n",
       "      <td>-72.951668</td>\n",
       "      <td>209</td>\n",
       "    </tr>\n",
       "    <tr>\n",
       "      <th>1616</th>\n",
       "      <td>15</td>\n",
       "      <td>1.112195e+00</td>\n",
       "      <td>1970.000000</td>\n",
       "      <td>1982</td>\n",
       "      <td>6</td>\n",
       "      <td>13</td>\n",
       "      <td>38.208332</td>\n",
       "      <td>-72.951668</td>\n",
       "      <td>209</td>\n",
       "    </tr>\n",
       "    <tr>\n",
       "      <th>1617</th>\n",
       "      <td>16</td>\n",
       "      <td>1.131707e+00</td>\n",
       "      <td>2166.000000</td>\n",
       "      <td>1982</td>\n",
       "      <td>6</td>\n",
       "      <td>13</td>\n",
       "      <td>38.208332</td>\n",
       "      <td>-72.951668</td>\n",
       "      <td>209</td>\n",
       "    </tr>\n",
       "    <tr>\n",
       "      <th>1618</th>\n",
       "      <td>17</td>\n",
       "      <td>1.121951e+00</td>\n",
       "      <td>2357.000000</td>\n",
       "      <td>1982</td>\n",
       "      <td>6</td>\n",
       "      <td>13</td>\n",
       "      <td>38.208332</td>\n",
       "      <td>-72.951668</td>\n",
       "      <td>209</td>\n",
       "    </tr>\n",
       "    <tr>\n",
       "      <th>1619</th>\n",
       "      <td>18</td>\n",
       "      <td>1.131707e+00</td>\n",
       "      <td>2534.000000</td>\n",
       "      <td>1982</td>\n",
       "      <td>6</td>\n",
       "      <td>13</td>\n",
       "      <td>38.208332</td>\n",
       "      <td>-72.951668</td>\n",
       "      <td>209</td>\n",
       "    </tr>\n",
       "  </tbody>\n",
       "</table>\n",
       "<p>1620 rows × 9 columns</p>\n",
       "</div>"
      ],
      "text/plain": [
       "      index     phosphate        depth  year  month  day        lat  \\\n",
       "0         0  6.200000e-02     4.056877  2007      7   26  39.349201   \n",
       "1         1 -1.000000e+10     4.190848  2007      7   26  39.349201   \n",
       "2         2 -1.000000e+10     4.332758  2007      7   26  39.349201   \n",
       "3         3  7.800002e-02    10.047769  2007      7   26  39.349201   \n",
       "4         4 -1.000000e+10    10.091433  2007      7   26  39.349201   \n",
       "...     ...           ...          ...   ...    ...  ...        ...   \n",
       "1615     14  1.131707e+00  1774.000000  1982      6   13  38.208332   \n",
       "1616     15  1.112195e+00  1970.000000  1982      6   13  38.208332   \n",
       "1617     16  1.131707e+00  2166.000000  1982      6   13  38.208332   \n",
       "1618     17  1.121951e+00  2357.000000  1982      6   13  38.208332   \n",
       "1619     18  1.131707e+00  2534.000000  1982      6   13  38.208332   \n",
       "\n",
       "            lon  station  \n",
       "0    -74.085197        1  \n",
       "1    -74.085197        1  \n",
       "2    -74.085197        1  \n",
       "3    -74.085197        1  \n",
       "4    -74.085197        1  \n",
       "...         ...      ...  \n",
       "1615 -72.951668      209  \n",
       "1616 -72.951668      209  \n",
       "1617 -72.951668      209  \n",
       "1618 -72.951668      209  \n",
       "1619 -72.951668      209  \n",
       "\n",
       "[1620 rows x 9 columns]"
      ]
     },
     "execution_count": 4,
     "metadata": {},
     "output_type": "execute_result"
    }
   ],
   "source": [
    "# index needed to be reset\n",
    "data = data.reset_index()\n",
    "data"
   ]
  },
  {
   "cell_type": "code",
   "execution_count": 5,
   "id": "expanded-steam",
   "metadata": {},
   "outputs": [],
   "source": [
    "# Load NYB shapefile\n",
    "NYB = gpd.read_file('/Users/nyelab/Desktop/NYB Indicators/Datasets/Shapefiles/PlanningArea_NYocean_NYSDOS.shp')"
   ]
  },
  {
   "cell_type": "code",
   "execution_count": 6,
   "id": "obvious-tongue",
   "metadata": {},
   "outputs": [],
   "source": [
    "# Alter the projection to WGS84 see https://epsg.io/4326\n",
    "NYB = NYB.to_crs(epsg=4326)"
   ]
  },
  {
   "cell_type": "code",
   "execution_count": 7,
   "id": "monetary-russian",
   "metadata": {},
   "outputs": [],
   "source": [
    "# Extract the polygon\n",
    "nyb_shape = NYB.geometry[0]"
   ]
  },
  {
   "cell_type": "code",
   "execution_count": 8,
   "id": "legendary-pickup",
   "metadata": {},
   "outputs": [],
   "source": [
    "def inNYB(dataframe, shape, lon_col_name, lat_col_name):\n",
    "    yn = str(input(\"Does your dataframe have a NYB column? y/n\"))\n",
    "    if yn == 'y':\n",
    "        print ('Great, starting inNYB')\n",
    "    else:\n",
    "        print ('OK, a NYB column has been added')\n",
    "        dataframe['NYB'] = np.nan\n",
    "    for i in range(len(dataframe)):\n",
    "        if Point(dataframe[lon_col_name][i], dataframe[lat_col_name][i]).within(shape) == True:\n",
    "            dataframe['NYB'][i] = 'NYB'\n",
    "    return dataframe"
   ]
  },
  {
   "cell_type": "code",
   "execution_count": 9,
   "id": "identical-pharmacology",
   "metadata": {},
   "outputs": [
    {
     "name": "stdin",
     "output_type": "stream",
     "text": [
      "Does your dataframe have a NYB column? y/n n\n"
     ]
    },
    {
     "name": "stdout",
     "output_type": "stream",
     "text": [
      "OK, a NYB column has been added\n"
     ]
    },
    {
     "name": "stderr",
     "output_type": "stream",
     "text": [
      "<ipython-input-8-ff8895e12bd9>:10: SettingWithCopyWarning: \n",
      "A value is trying to be set on a copy of a slice from a DataFrame\n",
      "\n",
      "See the caveats in the documentation: https://pandas.pydata.org/pandas-docs/stable/user_guide/indexing.html#returning-a-view-versus-a-copy\n",
      "  dataframe['NYB'][i] = 'NYB'\n",
      "/Users/nyelab/miniconda3/lib/python3.8/site-packages/pandas/core/indexing.py:1637: SettingWithCopyWarning: \n",
      "A value is trying to be set on a copy of a slice from a DataFrame\n",
      "\n",
      "See the caveats in the documentation: https://pandas.pydata.org/pandas-docs/stable/user_guide/indexing.html#returning-a-view-versus-a-copy\n",
      "  self._setitem_single_block(indexer, value, name)\n"
     ]
    }
   ],
   "source": [
    "#check which points are within the NYB\n",
    "data = inNYB(data, nyb_shape, 'lon', 'lat')"
   ]
  },
  {
   "cell_type": "code",
   "execution_count": 10,
   "id": "pregnant-charlotte",
   "metadata": {},
   "outputs": [],
   "source": [
    "# subset for NYB data only\n",
    "NYB_data = data[data.NYB == 'NYB']"
   ]
  },
  {
   "cell_type": "code",
   "execution_count": 16,
   "id": "subjective-intranet",
   "metadata": {},
   "outputs": [],
   "source": [
    "# get one each lat lon and year for each station\n",
    "LON = NYB_data[NYB_data.station == 4].lon\n",
    "LAT = NYB_data[NYB_data.station == 4].lat\n",
    "YEAR = NYB_data[NYB_data.station == 4].year\n",
    "\n",
    "for i in NYB_data.station.unique()[1:]:\n",
    "    LON = LON.append(NYB_data[NYB_data.station == i].lon)\n",
    "    LAT = LAT.append(NYB_data[NYB_data.station == i].lat)\n",
    "    YEAR = YEAR.append(NYB_data[NYB_data.station == i].year)"
   ]
  },
  {
   "cell_type": "code",
   "execution_count": 36,
   "id": "neither-guarantee",
   "metadata": {},
   "outputs": [
    {
     "ename": "TypeError",
     "evalue": "'Text' object is not callable",
     "output_type": "error",
     "traceback": [
      "\u001b[0;31m---------------------------------------------------------------------------\u001b[0m",
      "\u001b[0;31mTypeError\u001b[0m                                 Traceback (most recent call last)",
      "\u001b[0;32m<ipython-input-36-6143b815829b>\u001b[0m in \u001b[0;36m<module>\u001b[0;34m\u001b[0m\n\u001b[1;32m      9\u001b[0m \u001b[0max\u001b[0m\u001b[0;34m.\u001b[0m\u001b[0mset_yticks\u001b[0m\u001b[0;34m(\u001b[0m\u001b[0mnp\u001b[0m\u001b[0;34m.\u001b[0m\u001b[0marange\u001b[0m\u001b[0;34m(\u001b[0m\u001b[0;36m38\u001b[0m\u001b[0;34m,\u001b[0m\u001b[0;36m42\u001b[0m\u001b[0;34m,\u001b[0m\u001b[0;36m0.5\u001b[0m\u001b[0;34m)\u001b[0m\u001b[0;34m,\u001b[0m \u001b[0mcrs\u001b[0m\u001b[0;34m=\u001b[0m\u001b[0mccrs\u001b[0m\u001b[0;34m.\u001b[0m\u001b[0mPlateCarree\u001b[0m\u001b[0;34m(\u001b[0m\u001b[0;34m)\u001b[0m\u001b[0;34m)\u001b[0m\u001b[0;34m\u001b[0m\u001b[0;34m\u001b[0m\u001b[0m\n\u001b[1;32m     10\u001b[0m \u001b[0max\u001b[0m\u001b[0;34m.\u001b[0m\u001b[0mtick_params\u001b[0m\u001b[0;34m(\u001b[0m\u001b[0mlabelsize\u001b[0m\u001b[0;34m=\u001b[0m\u001b[0;36m14\u001b[0m\u001b[0;34m)\u001b[0m\u001b[0;34m\u001b[0m\u001b[0;34m\u001b[0m\u001b[0m\n\u001b[0;32m---> 11\u001b[0;31m \u001b[0max\u001b[0m\u001b[0;34m.\u001b[0m\u001b[0mtitle\u001b[0m\u001b[0;34m(\u001b[0m\u001b[0;34m'Phosphate'\u001b[0m\u001b[0;34m,\u001b[0m \u001b[0mfontsize\u001b[0m \u001b[0;34m=\u001b[0m \u001b[0;36m14\u001b[0m\u001b[0;34m,\u001b[0m \u001b[0mfontweight\u001b[0m \u001b[0;34m=\u001b[0m \u001b[0;36m3\u001b[0m\u001b[0;34m)\u001b[0m\u001b[0;34m\u001b[0m\u001b[0;34m\u001b[0m\u001b[0m\n\u001b[0m",
      "\u001b[0;31mTypeError\u001b[0m: 'Text' object is not callable"
     ]
    },
    {
     "data": {
      "image/png": "[encoded data removed]",
      "text/plain": [
       "<Figure size 720x720 with 2 Axes>"
      ]
     },
     "metadata": {
      "needs_background": "light"
     },
     "output_type": "display_data"
    }
   ],
   "source": [
    "fig, ax = plt.subplots(figsize=(10,10), subplot_kw={'projection': ccrs.PlateCarree()})\n",
    "extent = [285,290,38.5,41.5]\n",
    "ax.set_extent(extent)\n",
    "ax.gridlines()\n",
    "ax.coastlines(resolution='50m')\n",
    "C = ax.scatter(LON,LAT,c=YEAR)\n",
    "fig.colorbar(C)\n",
    "ax.set_xticks(np.arange(-75,-69,1), crs=ccrs.PlateCarree())\n",
    "ax.set_yticks(np.arange(38,42,0.5), crs=ccrs.PlateCarree())\n",
    "ax.tick_params(labelsize=14)\n",
    "plt.title('Phosphate', fontsize = 14, fontweight = 'bold')"
   ]
  },
  {
   "cell_type": "code",
   "execution_count": null,
   "id": "forced-northeast",
   "metadata": {},
   "outputs": [],
   "source": [
    "NYB_data."
   ]
  },
  {
   "cell_type": "code",
   "execution_count": null,
   "id": "compliant-dividend",
   "metadata": {},
   "outputs": [],
   "source": [
    "array = xr.open_dataset(\"/Users/nyelab/Downloads/ocldb1625068230.20558.OSD/wod_013574410O.nc\")"
   ]
  },
  {
   "cell_type": "code",
   "execution_count": null,
   "id": "anticipated-bride",
   "metadata": {},
   "outputs": [],
   "source": [
    "data2 = pn.DataFrame(data = array.Phosphate, columns = ['phosphate'])"
   ]
  },
  {
   "cell_type": "code",
   "execution_count": null,
   "id": "practical-johnston",
   "metadata": {},
   "outputs": [],
   "source": [
    "k=1\n",
    "data2['depth'] = array.z.values \n",
    "year = pn.to_datetime(array.time.values).year\n",
    "month = pn.to_datetime(array.time.values).month\n",
    "day = pn.to_datetime(array.time.values).day\n",
    "data2['year']=year\n",
    "data2['month']=month\n",
    "data2['day']=day\n",
    "data2['lat']=array.lat.values\n",
    "data2['lon']=array.lon.values\n",
    "data2['station']=k"
   ]
  },
  {
   "cell_type": "code",
   "execution_count": null,
   "id": "serious-seating",
   "metadata": {},
   "outputs": [],
   "source": [
    "data2"
   ]
  },
  {
   "cell_type": "code",
   "execution_count": null,
   "id": "english-investing",
   "metadata": {},
   "outputs": [],
   "source": [
    "array"
   ]
  },
  {
   "cell_type": "code",
   "execution_count": null,
   "id": "exempt-magazine",
   "metadata": {},
   "outputs": [],
   "source": [
    "X = [0,0,0,0,0,0,0,0,0,0,0,0,0,0,0]\n",
    "Y = [15,14,13,12,11,10,9,8,7,6,5,4,3,2,1]"
   ]
  },
  {
   "cell_type": "code",
   "execution_count": null,
   "id": "atlantic-teaching",
   "metadata": {},
   "outputs": [],
   "source": [
    "len([40,100,25,50,30,120,-80,-60,-110,-30,20,50,-20,-30,-40])"
   ]
  },
  {
   "cell_type": "code",
   "execution_count": null,
   "id": "secret-consistency",
   "metadata": {},
   "outputs": [],
   "source": [
    "#help(plt.quiver)\n",
    "\n",
    "plt.quiver(X,Y, [100,200,40,20,-10,-30,-20,-60,-80,-10,20,40,50,80,20], [40,100,25,50,30,120,-80,-60,-110,-30,20,50,-20,-30,-40], scale = 1000)\n",
    "#plt.xlim([-0.04,0.04])\n",
    "plt.ylim([0,20])"
   ]
  },
  {
   "cell_type": "code",
   "execution_count": null,
   "id": "another-transfer",
   "metadata": {},
   "outputs": [],
   "source": []
  }
 ],
 "metadata": {
  "kernelspec": {
   "display_name": "Python 3",
   "language": "python",
   "name": "python3"
  },
  "language_info": {
   "codemirror_mode": {
    "name": "ipython",
    "version": 3
   },
   "file_extension": ".py",
   "mimetype": "text/x-python",
   "name": "python",
   "nbconvert_exporter": "python",
   "pygments_lexer": "ipython3",
   "version": "3.8.5"
  }
 },
 "nbformat": 4,
 "nbformat_minor": 5
}
