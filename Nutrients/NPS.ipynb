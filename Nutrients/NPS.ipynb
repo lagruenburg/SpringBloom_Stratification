{
 "cells": [
  {
   "cell_type": "code",
   "execution_count": 31,
   "id": "opponent-nicholas",
   "metadata": {},
   "outputs": [],
   "source": [
    "import numpy as np\n",
    "import matplotlib.pyplot as plt\n",
    "%matplotlib inline\n",
    "import xarray as xr\n",
    "import cartopy\n",
    "import pandas as pn\n",
    "from datetime import datetime\n",
    "import gsw\n",
    "from holteandtalley import HolteAndTalley\n",
    "import os\n",
    "from xmovie import Movie\n",
    "from shapely.geometry import Polygon, Point, MultiPolygon\n",
    "import shapefile\n",
    "import geopandas as gpd\n",
    "import cartopy\n",
    "import cartopy.crs as ccrs"
   ]
  },
  {
   "cell_type": "markdown",
   "id": "cloudy-science",
   "metadata": {},
   "source": [
    "## Opening the Phosphate Data from the World Ocean Database"
   ]
  },
  {
   "cell_type": "code",
   "execution_count": 2,
   "id": "documentary-automation",
   "metadata": {},
   "outputs": [],
   "source": [
    "# First set up the dataframe with the initial netcdf\n",
    "array = xr.open_dataset(\"/Users/nyelab/Downloads/ocldb1625068230.20558.OSD/wod_013574410O.nc\")\n",
    "data = pn.DataFrame(data = array.Phosphate, columns = ['phosphate'])\n",
    "k=1\n",
    "data['depth'] = array.z.values \n",
    "year = pn.to_datetime(array.time.values).year\n",
    "month = pn.to_datetime(array.time.values).month\n",
    "day = pn.to_datetime(array.time.values).day\n",
    "data['year']=year\n",
    "data['month']=month\n",
    "data['day']=day\n",
    "data['lat']=array.lat.values\n",
    "data['lon']=array.lon.values\n",
    "data['station']=k"
   ]
  },
  {
   "cell_type": "code",
   "execution_count": 3,
   "id": "fantastic-portugal",
   "metadata": {},
   "outputs": [],
   "source": [
    "# Next cycle through all netcdfs and append new data to the dataframe\n",
    "k=2\n",
    "for i in os.listdir(\"/Users/nyelab/Downloads/ocldb1625068230.20558.OSD/\"):\n",
    "    if i.startswith(\"wo\"):\n",
    "        string = '/Users/nyelab/Downloads/ocldb1625068230.20558.OSD/'+i\n",
    "        array = xr.open_dataset(string)\n",
    "        data2 = pn.DataFrame(data = array.Phosphate, columns = ['phosphate'])\n",
    "        data2['depth'] = array.z.values \n",
    "        year = pn.to_datetime(array.time.values).year\n",
    "        month = pn.to_datetime(array.time.values).month\n",
    "        day = pn.to_datetime(array.time.values).day\n",
    "        data2['year']=year\n",
    "        data2['month']=month\n",
    "        data2['day']=day\n",
    "        data2['lat']=array.lat.values\n",
    "        data2['lon']=array.lon.values\n",
    "        data2['station']=k\n",
    "        k=k+1\n",
    "        data = data.append(data2)\n",
    "        array.close()"
   ]
  },
  {
   "cell_type": "code",
   "execution_count": 4,
   "id": "animal-lunch",
   "metadata": {},
   "outputs": [
    {
     "data": {
      "text/html": [
       "<div>\n",
       "<style scoped>\n",
       "    .dataframe tbody tr th:only-of-type {\n",
       "        vertical-align: middle;\n",
       "    }\n",
       "\n",
       "    .dataframe tbody tr th {\n",
       "        vertical-align: top;\n",
       "    }\n",
       "\n",
       "    .dataframe thead th {\n",
       "        text-align: right;\n",
       "    }\n",
       "</style>\n",
       "<table border=\"1\" class=\"dataframe\">\n",
       "  <thead>\n",
       "    <tr style=\"text-align: right;\">\n",
       "      <th></th>\n",
       "      <th>index</th>\n",
       "      <th>phosphate</th>\n",
       "      <th>depth</th>\n",
       "      <th>year</th>\n",
       "      <th>month</th>\n",
       "      <th>day</th>\n",
       "      <th>lat</th>\n",
       "      <th>lon</th>\n",
       "      <th>station</th>\n",
       "    </tr>\n",
       "  </thead>\n",
       "  <tbody>\n",
       "    <tr>\n",
       "      <th>0</th>\n",
       "      <td>0</td>\n",
       "      <td>6.200000e-02</td>\n",
       "      <td>4.056877</td>\n",
       "      <td>2007</td>\n",
       "      <td>7</td>\n",
       "      <td>26</td>\n",
       "      <td>39.349201</td>\n",
       "      <td>-74.085197</td>\n",
       "      <td>1</td>\n",
       "    </tr>\n",
       "    <tr>\n",
       "      <th>1</th>\n",
       "      <td>1</td>\n",
       "      <td>-1.000000e+10</td>\n",
       "      <td>4.190848</td>\n",
       "      <td>2007</td>\n",
       "      <td>7</td>\n",
       "      <td>26</td>\n",
       "      <td>39.349201</td>\n",
       "      <td>-74.085197</td>\n",
       "      <td>1</td>\n",
       "    </tr>\n",
       "    <tr>\n",
       "      <th>2</th>\n",
       "      <td>2</td>\n",
       "      <td>-1.000000e+10</td>\n",
       "      <td>4.332758</td>\n",
       "      <td>2007</td>\n",
       "      <td>7</td>\n",
       "      <td>26</td>\n",
       "      <td>39.349201</td>\n",
       "      <td>-74.085197</td>\n",
       "      <td>1</td>\n",
       "    </tr>\n",
       "    <tr>\n",
       "      <th>3</th>\n",
       "      <td>3</td>\n",
       "      <td>7.800002e-02</td>\n",
       "      <td>10.047769</td>\n",
       "      <td>2007</td>\n",
       "      <td>7</td>\n",
       "      <td>26</td>\n",
       "      <td>39.349201</td>\n",
       "      <td>-74.085197</td>\n",
       "      <td>1</td>\n",
       "    </tr>\n",
       "    <tr>\n",
       "      <th>4</th>\n",
       "      <td>4</td>\n",
       "      <td>-1.000000e+10</td>\n",
       "      <td>10.091433</td>\n",
       "      <td>2007</td>\n",
       "      <td>7</td>\n",
       "      <td>26</td>\n",
       "      <td>39.349201</td>\n",
       "      <td>-74.085197</td>\n",
       "      <td>1</td>\n",
       "    </tr>\n",
       "    <tr>\n",
       "      <th>...</th>\n",
       "      <td>...</td>\n",
       "      <td>...</td>\n",
       "      <td>...</td>\n",
       "      <td>...</td>\n",
       "      <td>...</td>\n",
       "      <td>...</td>\n",
       "      <td>...</td>\n",
       "      <td>...</td>\n",
       "      <td>...</td>\n",
       "    </tr>\n",
       "    <tr>\n",
       "      <th>1615</th>\n",
       "      <td>14</td>\n",
       "      <td>1.131707e+00</td>\n",
       "      <td>1774.000000</td>\n",
       "      <td>1982</td>\n",
       "      <td>6</td>\n",
       "      <td>13</td>\n",
       "      <td>38.208332</td>\n",
       "      <td>-72.951668</td>\n",
       "      <td>209</td>\n",
       "    </tr>\n",
       "    <tr>\n",
       "      <th>1616</th>\n",
       "      <td>15</td>\n",
       "      <td>1.112195e+00</td>\n",
       "      <td>1970.000000</td>\n",
       "      <td>1982</td>\n",
       "      <td>6</td>\n",
       "      <td>13</td>\n",
       "      <td>38.208332</td>\n",
       "      <td>-72.951668</td>\n",
       "      <td>209</td>\n",
       "    </tr>\n",
       "    <tr>\n",
       "      <th>1617</th>\n",
       "      <td>16</td>\n",
       "      <td>1.131707e+00</td>\n",
       "      <td>2166.000000</td>\n",
       "      <td>1982</td>\n",
       "      <td>6</td>\n",
       "      <td>13</td>\n",
       "      <td>38.208332</td>\n",
       "      <td>-72.951668</td>\n",
       "      <td>209</td>\n",
       "    </tr>\n",
       "    <tr>\n",
       "      <th>1618</th>\n",
       "      <td>17</td>\n",
       "      <td>1.121951e+00</td>\n",
       "      <td>2357.000000</td>\n",
       "      <td>1982</td>\n",
       "      <td>6</td>\n",
       "      <td>13</td>\n",
       "      <td>38.208332</td>\n",
       "      <td>-72.951668</td>\n",
       "      <td>209</td>\n",
       "    </tr>\n",
       "    <tr>\n",
       "      <th>1619</th>\n",
       "      <td>18</td>\n",
       "      <td>1.131707e+00</td>\n",
       "      <td>2534.000000</td>\n",
       "      <td>1982</td>\n",
       "      <td>6</td>\n",
       "      <td>13</td>\n",
       "      <td>38.208332</td>\n",
       "      <td>-72.951668</td>\n",
       "      <td>209</td>\n",
       "    </tr>\n",
       "  </tbody>\n",
       "</table>\n",
       "<p>1620 rows × 9 columns</p>\n",
       "</div>"
      ],
      "text/plain": [
       "      index     phosphate        depth  year  month  day        lat  \\\n",
       "0         0  6.200000e-02     4.056877  2007      7   26  39.349201   \n",
       "1         1 -1.000000e+10     4.190848  2007      7   26  39.349201   \n",
       "2         2 -1.000000e+10     4.332758  2007      7   26  39.349201   \n",
       "3         3  7.800002e-02    10.047769  2007      7   26  39.349201   \n",
       "4         4 -1.000000e+10    10.091433  2007      7   26  39.349201   \n",
       "...     ...           ...          ...   ...    ...  ...        ...   \n",
       "1615     14  1.131707e+00  1774.000000  1982      6   13  38.208332   \n",
       "1616     15  1.112195e+00  1970.000000  1982      6   13  38.208332   \n",
       "1617     16  1.131707e+00  2166.000000  1982      6   13  38.208332   \n",
       "1618     17  1.121951e+00  2357.000000  1982      6   13  38.208332   \n",
       "1619     18  1.131707e+00  2534.000000  1982      6   13  38.208332   \n",
       "\n",
       "            lon  station  \n",
       "0    -74.085197        1  \n",
       "1    -74.085197        1  \n",
       "2    -74.085197        1  \n",
       "3    -74.085197        1  \n",
       "4    -74.085197        1  \n",
       "...         ...      ...  \n",
       "1615 -72.951668      209  \n",
       "1616 -72.951668      209  \n",
       "1617 -72.951668      209  \n",
       "1618 -72.951668      209  \n",
       "1619 -72.951668      209  \n",
       "\n",
       "[1620 rows x 9 columns]"
      ]
     },
     "execution_count": 4,
     "metadata": {},
     "output_type": "execute_result"
    }
   ],
   "source": [
    "# index needed to be reset\n",
    "data = data.reset_index()\n",
    "data"
   ]
  },
  {
   "cell_type": "code",
   "execution_count": 5,
   "id": "offensive-vault",
   "metadata": {},
   "outputs": [],
   "source": [
    "# Load NYB shapefile\n",
    "NYB = gpd.read_file('/Users/nyelab/Desktop/NYB Indicators/Datasets/Shapefiles/PlanningArea_NYocean_NYSDOS.shp')"
   ]
  },
  {
   "cell_type": "code",
   "execution_count": 6,
   "id": "corrected-russell",
   "metadata": {},
   "outputs": [],
   "source": [
    "# Alter the projection to WGS84 see https://epsg.io/4326\n",
    "NYB = NYB.to_crs(epsg=4326)"
   ]
  },
  {
   "cell_type": "code",
   "execution_count": 7,
   "id": "surprised-lucas",
   "metadata": {},
   "outputs": [],
   "source": [
    "# Extract the polygon\n",
    "nyb_shape = NYB.geometry[0]"
   ]
  },
  {
   "cell_type": "code",
   "execution_count": 8,
   "id": "fancy-dividend",
   "metadata": {},
   "outputs": [],
   "source": [
    "def inNYB(dataframe, shape, lon_col_name, lat_col_name):\n",
    "    yn = str(input(\"Does your dataframe have a NYB column? y/n\"))\n",
    "    if yn == 'y':\n",
    "        print ('Great, starting inNYB')\n",
    "    else:\n",
    "        print ('OK, a NYB column has been added')\n",
    "        dataframe['NYB'] = np.nan\n",
    "    for i in range(len(dataframe)):\n",
    "        if Point(dataframe[lon_col_name][i], dataframe[lat_col_name][i]).within(shape) == True:\n",
    "            dataframe['NYB'][i] = 'NYB'\n",
    "    return dataframe"
   ]
  },
  {
   "cell_type": "code",
   "execution_count": 9,
   "id": "another-combining",
   "metadata": {},
   "outputs": [
    {
     "name": "stdin",
     "output_type": "stream",
     "text": [
      "Does your dataframe have a NYB column? y/n n\n"
     ]
    },
    {
     "name": "stdout",
     "output_type": "stream",
     "text": [
      "OK, a NYB column has been added\n"
     ]
    },
    {
     "name": "stderr",
     "output_type": "stream",
     "text": [
      "<ipython-input-8-ff8895e12bd9>:10: SettingWithCopyWarning: \n",
      "A value is trying to be set on a copy of a slice from a DataFrame\n",
      "\n",
      "See the caveats in the documentation: https://pandas.pydata.org/pandas-docs/stable/user_guide/indexing.html#returning-a-view-versus-a-copy\n",
      "  dataframe['NYB'][i] = 'NYB'\n",
      "/Users/nyelab/miniconda3/lib/python3.8/site-packages/pandas/core/indexing.py:1637: SettingWithCopyWarning: \n",
      "A value is trying to be set on a copy of a slice from a DataFrame\n",
      "\n",
      "See the caveats in the documentation: https://pandas.pydata.org/pandas-docs/stable/user_guide/indexing.html#returning-a-view-versus-a-copy\n",
      "  self._setitem_single_block(indexer, value, name)\n"
     ]
    }
   ],
   "source": [
    "#check which points are within the NYB\n",
    "data = inNYB(data, nyb_shape, 'lon', 'lat')"
   ]
  },
  {
   "cell_type": "code",
   "execution_count": 10,
   "id": "optical-final",
   "metadata": {},
   "outputs": [],
   "source": [
    "# subset for NYB data only\n",
    "NYB_data = data[data.NYB == 'NYB']"
   ]
  },
  {
   "cell_type": "code",
   "execution_count": 16,
   "id": "educational-olive",
   "metadata": {},
   "outputs": [],
   "source": [
    "# get one each lat lon and year for each station\n",
    "LON = NYB_data[NYB_data.station == 4].lon\n",
    "LAT = NYB_data[NYB_data.station == 4].lat\n",
    "YEAR = NYB_data[NYB_data.station == 4].year\n",
    "\n",
    "for i in NYB_data.station.unique()[1:]:\n",
    "    LON = LON.append(NYB_data[NYB_data.station == i].lon)\n",
    "    LAT = LAT.append(NYB_data[NYB_data.station == i].lat)\n",
    "    YEAR = YEAR.append(NYB_data[NYB_data.station == i].year)"
   ]
  },
  {
   "cell_type": "code",
   "execution_count": 56,
   "id": "middle-macro",
   "metadata": {},
   "outputs": [
    {
     "data": {
      "text/plain": [
       "Text(0.5, 1.0, 'Phosphate')"
      ]
     },
     "execution_count": 56,
     "metadata": {},
     "output_type": "execute_result"
    },
    {
     "data": {
      "image/png": "[encoded data removed]",
      "text/plain": [
       "<Figure size 720x720 with 2 Axes>"
      ]
     },
     "metadata": {
      "needs_background": "light"
     },
     "output_type": "display_data"
    }
   ],
   "source": [
    "fig, ax = plt.subplots(figsize=(10,10), subplot_kw={'projection': ccrs.PlateCarree()})\n",
    "extent = [285,290,38.5,41.5]\n",
    "ax.set_extent(extent)\n",
    "ax.gridlines()\n",
    "ax.coastlines(resolution='50m')\n",
    "C = ax.scatter(LON,LAT,c=YEAR)\n",
    "fig.colorbar(C)\n",
    "ax.set_xticks(np.arange(-75,-69,1), crs=ccrs.PlateCarree())\n",
    "ax.set_yticks(np.arange(38,42,0.5), crs=ccrs.PlateCarree())\n",
    "ax.tick_params(labelsize=14)\n",
    "plt.title('Phosphate', fontsize = 14, fontweight = 'bold')"
   ]
  },
  {
   "cell_type": "code",
   "execution_count": 37,
   "id": "floating-lancaster",
   "metadata": {},
   "outputs": [
    {
     "data": {
      "text/plain": [
       "array([1980, 1982])"
      ]
     },
     "execution_count": 37,
     "metadata": {},
     "output_type": "execute_result"
    }
   ],
   "source": [
    "NYB_data.year.unique()"
   ]
  },
  {
   "cell_type": "markdown",
   "id": "rocky-spencer",
   "metadata": {},
   "source": [
    "## Nitrate"
   ]
  },
  {
   "cell_type": "code",
   "execution_count": 41,
   "id": "relative-nursery",
   "metadata": {},
   "outputs": [],
   "source": [
    "# First set up the dataframe with the initial netcdf\n",
    "array = xr.open_dataset(\"/Users/nyelab/Downloads/ocldb1625068365.21208.OSD/wod_013574410O.nc\")\n",
    "datan = pn.DataFrame(data = array.Nitrate, columns = ['nitrate'])\n",
    "k=1\n",
    "datan['depth'] = array.z.values \n",
    "year = pn.to_datetime(array.time.values).year\n",
    "month = pn.to_datetime(array.time.values).month\n",
    "day = pn.to_datetime(array.time.values).day\n",
    "datan['year']=year\n",
    "datan['month']=month\n",
    "datan['day']=day\n",
    "datan['lat']=array.lat.values\n",
    "datan['lon']=array.lon.values\n",
    "datan['station']=k"
   ]
  },
  {
   "cell_type": "code",
   "execution_count": 42,
   "id": "minute-departure",
   "metadata": {},
   "outputs": [],
   "source": [
    "# Next cycle through all netcdfs and append new data to the dataframe\n",
    "k=2\n",
    "for i in os.listdir(\"/Users/nyelab/Downloads/ocldb1625068365.21208.OSD/\"):\n",
    "    if i.startswith(\"wo\"):\n",
    "        string = '/Users/nyelab/Downloads/ocldb1625068365.21208.OSD/'+i\n",
    "        array = xr.open_dataset(string)\n",
    "        data2n = pn.DataFrame(data = array.Nitrate, columns = ['nitrate'])\n",
    "        data2n['depth'] = array.z.values \n",
    "        year = pn.to_datetime(array.time.values).year\n",
    "        month = pn.to_datetime(array.time.values).month\n",
    "        day = pn.to_datetime(array.time.values).day\n",
    "        data2n['year']=year\n",
    "        data2n['month']=month\n",
    "        data2n['day']=day\n",
    "        data2n['lat']=array.lat.values\n",
    "        data2n['lon']=array.lon.values\n",
    "        data2n['station']=k\n",
    "        k=k+1\n",
    "        datan = datan.append(data2n)\n",
    "        array.close()"
   ]
  },
  {
   "cell_type": "code",
   "execution_count": 43,
   "id": "central-corpus",
   "metadata": {},
   "outputs": [
    {
     "data": {
      "text/html": [
       "<div>\n",
       "<style scoped>\n",
       "    .dataframe tbody tr th:only-of-type {\n",
       "        vertical-align: middle;\n",
       "    }\n",
       "\n",
       "    .dataframe tbody tr th {\n",
       "        vertical-align: top;\n",
       "    }\n",
       "\n",
       "    .dataframe thead th {\n",
       "        text-align: right;\n",
       "    }\n",
       "</style>\n",
       "<table border=\"1\" class=\"dataframe\">\n",
       "  <thead>\n",
       "    <tr style=\"text-align: right;\">\n",
       "      <th></th>\n",
       "      <th>index</th>\n",
       "      <th>nitrate</th>\n",
       "      <th>depth</th>\n",
       "      <th>year</th>\n",
       "      <th>month</th>\n",
       "      <th>day</th>\n",
       "      <th>lat</th>\n",
       "      <th>lon</th>\n",
       "      <th>station</th>\n",
       "    </tr>\n",
       "  </thead>\n",
       "  <tbody>\n",
       "    <tr>\n",
       "      <th>0</th>\n",
       "      <td>0</td>\n",
       "      <td>4.200000e-02</td>\n",
       "      <td>4.056877</td>\n",
       "      <td>2007</td>\n",
       "      <td>7</td>\n",
       "      <td>26</td>\n",
       "      <td>39.349201</td>\n",
       "      <td>-74.085197</td>\n",
       "      <td>1</td>\n",
       "    </tr>\n",
       "    <tr>\n",
       "      <th>1</th>\n",
       "      <td>1</td>\n",
       "      <td>-1.000000e+10</td>\n",
       "      <td>4.190848</td>\n",
       "      <td>2007</td>\n",
       "      <td>7</td>\n",
       "      <td>26</td>\n",
       "      <td>39.349201</td>\n",
       "      <td>-74.085197</td>\n",
       "      <td>1</td>\n",
       "    </tr>\n",
       "    <tr>\n",
       "      <th>2</th>\n",
       "      <td>2</td>\n",
       "      <td>-1.000000e+10</td>\n",
       "      <td>4.332758</td>\n",
       "      <td>2007</td>\n",
       "      <td>7</td>\n",
       "      <td>26</td>\n",
       "      <td>39.349201</td>\n",
       "      <td>-74.085197</td>\n",
       "      <td>1</td>\n",
       "    </tr>\n",
       "    <tr>\n",
       "      <th>3</th>\n",
       "      <td>3</td>\n",
       "      <td>5.700001e-02</td>\n",
       "      <td>10.047769</td>\n",
       "      <td>2007</td>\n",
       "      <td>7</td>\n",
       "      <td>26</td>\n",
       "      <td>39.349201</td>\n",
       "      <td>-74.085197</td>\n",
       "      <td>1</td>\n",
       "    </tr>\n",
       "    <tr>\n",
       "      <th>4</th>\n",
       "      <td>4</td>\n",
       "      <td>-1.000000e+10</td>\n",
       "      <td>10.091433</td>\n",
       "      <td>2007</td>\n",
       "      <td>7</td>\n",
       "      <td>26</td>\n",
       "      <td>39.349201</td>\n",
       "      <td>-74.085197</td>\n",
       "      <td>1</td>\n",
       "    </tr>\n",
       "    <tr>\n",
       "      <th>...</th>\n",
       "      <td>...</td>\n",
       "      <td>...</td>\n",
       "      <td>...</td>\n",
       "      <td>...</td>\n",
       "      <td>...</td>\n",
       "      <td>...</td>\n",
       "      <td>...</td>\n",
       "      <td>...</td>\n",
       "      <td>...</td>\n",
       "    </tr>\n",
       "    <tr>\n",
       "      <th>347</th>\n",
       "      <td>14</td>\n",
       "      <td>1.736585e+01</td>\n",
       "      <td>1774.000000</td>\n",
       "      <td>1982</td>\n",
       "      <td>6</td>\n",
       "      <td>13</td>\n",
       "      <td>38.208332</td>\n",
       "      <td>-72.951668</td>\n",
       "      <td>25</td>\n",
       "    </tr>\n",
       "    <tr>\n",
       "      <th>348</th>\n",
       "      <td>15</td>\n",
       "      <td>1.736585e+01</td>\n",
       "      <td>1970.000000</td>\n",
       "      <td>1982</td>\n",
       "      <td>6</td>\n",
       "      <td>13</td>\n",
       "      <td>38.208332</td>\n",
       "      <td>-72.951668</td>\n",
       "      <td>25</td>\n",
       "    </tr>\n",
       "    <tr>\n",
       "      <th>349</th>\n",
       "      <td>16</td>\n",
       "      <td>1.756098e+01</td>\n",
       "      <td>2166.000000</td>\n",
       "      <td>1982</td>\n",
       "      <td>6</td>\n",
       "      <td>13</td>\n",
       "      <td>38.208332</td>\n",
       "      <td>-72.951668</td>\n",
       "      <td>25</td>\n",
       "    </tr>\n",
       "    <tr>\n",
       "      <th>350</th>\n",
       "      <td>17</td>\n",
       "      <td>1.736585e+01</td>\n",
       "      <td>2357.000000</td>\n",
       "      <td>1982</td>\n",
       "      <td>6</td>\n",
       "      <td>13</td>\n",
       "      <td>38.208332</td>\n",
       "      <td>-72.951668</td>\n",
       "      <td>25</td>\n",
       "    </tr>\n",
       "    <tr>\n",
       "      <th>351</th>\n",
       "      <td>18</td>\n",
       "      <td>1.726829e+01</td>\n",
       "      <td>2534.000000</td>\n",
       "      <td>1982</td>\n",
       "      <td>6</td>\n",
       "      <td>13</td>\n",
       "      <td>38.208332</td>\n",
       "      <td>-72.951668</td>\n",
       "      <td>25</td>\n",
       "    </tr>\n",
       "  </tbody>\n",
       "</table>\n",
       "<p>352 rows × 9 columns</p>\n",
       "</div>"
      ],
      "text/plain": [
       "     index       nitrate        depth  year  month  day        lat        lon  \\\n",
       "0        0  4.200000e-02     4.056877  2007      7   26  39.349201 -74.085197   \n",
       "1        1 -1.000000e+10     4.190848  2007      7   26  39.349201 -74.085197   \n",
       "2        2 -1.000000e+10     4.332758  2007      7   26  39.349201 -74.085197   \n",
       "3        3  5.700001e-02    10.047769  2007      7   26  39.349201 -74.085197   \n",
       "4        4 -1.000000e+10    10.091433  2007      7   26  39.349201 -74.085197   \n",
       "..     ...           ...          ...   ...    ...  ...        ...        ...   \n",
       "347     14  1.736585e+01  1774.000000  1982      6   13  38.208332 -72.951668   \n",
       "348     15  1.736585e+01  1970.000000  1982      6   13  38.208332 -72.951668   \n",
       "349     16  1.756098e+01  2166.000000  1982      6   13  38.208332 -72.951668   \n",
       "350     17  1.736585e+01  2357.000000  1982      6   13  38.208332 -72.951668   \n",
       "351     18  1.726829e+01  2534.000000  1982      6   13  38.208332 -72.951668   \n",
       "\n",
       "     station  \n",
       "0          1  \n",
       "1          1  \n",
       "2          1  \n",
       "3          1  \n",
       "4          1  \n",
       "..       ...  \n",
       "347       25  \n",
       "348       25  \n",
       "349       25  \n",
       "350       25  \n",
       "351       25  \n",
       "\n",
       "[352 rows x 9 columns]"
      ]
     },
     "execution_count": 43,
     "metadata": {},
     "output_type": "execute_result"
    }
   ],
   "source": [
    "# index needed to be reset\n",
    "datan = datan.reset_index()\n",
    "datan"
   ]
  },
  {
   "cell_type": "code",
   "execution_count": 44,
   "id": "inappropriate-hometown",
   "metadata": {},
   "outputs": [
    {
     "name": "stdin",
     "output_type": "stream",
     "text": [
      "Does your dataframe have a NYB column? y/n n\n"
     ]
    },
    {
     "name": "stdout",
     "output_type": "stream",
     "text": [
      "OK, a NYB column has been added\n"
     ]
    },
    {
     "name": "stderr",
     "output_type": "stream",
     "text": [
      "<ipython-input-8-ff8895e12bd9>:10: SettingWithCopyWarning: \n",
      "A value is trying to be set on a copy of a slice from a DataFrame\n",
      "\n",
      "See the caveats in the documentation: https://pandas.pydata.org/pandas-docs/stable/user_guide/indexing.html#returning-a-view-versus-a-copy\n",
      "  dataframe['NYB'][i] = 'NYB'\n",
      "/Users/nyelab/miniconda3/lib/python3.8/site-packages/pandas/core/indexing.py:1637: SettingWithCopyWarning: \n",
      "A value is trying to be set on a copy of a slice from a DataFrame\n",
      "\n",
      "See the caveats in the documentation: https://pandas.pydata.org/pandas-docs/stable/user_guide/indexing.html#returning-a-view-versus-a-copy\n",
      "  self._setitem_single_block(indexer, value, name)\n"
     ]
    }
   ],
   "source": [
    "#check which points are within the NYB\n",
    "datan = inNYB(datan, nyb_shape, 'lon', 'lat')"
   ]
  },
  {
   "cell_type": "code",
   "execution_count": 45,
   "id": "cheap-journal",
   "metadata": {},
   "outputs": [],
   "source": [
    "# subset for NYB data only\n",
    "NYB_datan = datan[datan.NYB == 'NYB']"
   ]
  },
  {
   "cell_type": "code",
   "execution_count": 46,
   "id": "public-arena",
   "metadata": {},
   "outputs": [],
   "source": [
    "# get one each lat lon and year for each station\n",
    "LON = NYB_datan[NYB_datan.station == 4].lon\n",
    "LAT = NYB_datan[NYB_datan.station == 4].lat\n",
    "YEAR = NYB_datan[NYB_datan.station == 4].year\n",
    "\n",
    "for i in NYB_datan.station.unique()[1:]:\n",
    "    LON = LON.append(NYB_datan[NYB_datan.station == i].lon)\n",
    "    LAT = LAT.append(NYB_datan[NYB_datan.station == i].lat)\n",
    "    YEAR = YEAR.append(NYB_datan[NYB_datan.station == i].year)"
   ]
  },
  {
   "cell_type": "code",
   "execution_count": 47,
   "id": "excellent-humor",
   "metadata": {},
   "outputs": [
    {
     "data": {
      "text/plain": [
       "Text(0.5, 1.0, 'Nitrate')"
      ]
     },
     "execution_count": 47,
     "metadata": {},
     "output_type": "execute_result"
    },
    {
     "data": {
      "image/png": "[encoded data removed]",
      "text/plain": [
       "<Figure size 720x720 with 2 Axes>"
      ]
     },
     "metadata": {
      "needs_background": "light"
     },
     "output_type": "display_data"
    }
   ],
   "source": [
    "fig, ax = plt.subplots(figsize=(10,10), subplot_kw={'projection': ccrs.PlateCarree()})\n",
    "extent = [285,290,38.5,41.5]\n",
    "ax.set_extent(extent)\n",
    "ax.gridlines()\n",
    "ax.coastlines(resolution='50m')\n",
    "C = ax.scatter(LON,LAT,c=YEAR)\n",
    "fig.colorbar(C)\n",
    "ax.set_xticks(np.arange(-75,-69,1), crs=ccrs.PlateCarree())\n",
    "ax.set_yticks(np.arange(38,42,0.5), crs=ccrs.PlateCarree())\n",
    "ax.tick_params(labelsize=14)\n",
    "plt.title('Nitrate', fontsize = 14, fontweight = 'bold')"
   ]
  },
  {
   "cell_type": "markdown",
   "id": "threaded-folks",
   "metadata": {},
   "source": [
    "## Silicate"
   ]
  },
  {
   "cell_type": "code",
   "execution_count": 48,
   "id": "human-bones",
   "metadata": {},
   "outputs": [],
   "source": [
    "# First set up the dataframe with the initial netcdf\n",
    "array = xr.open_dataset(\"/Users/nyelab/Downloads/ocldb1625613553.31148.OSD/wod_008081453O.nc\")\n",
    "datas = pn.DataFrame(data = array.Silicate, columns = ['silicate'])\n",
    "k=1\n",
    "datas['depth'] = array.z.values \n",
    "year = pn.to_datetime(array.time.values).year\n",
    "month = pn.to_datetime(array.time.values).month\n",
    "day = pn.to_datetime(array.time.values).day\n",
    "datas['year']=year\n",
    "datas['month']=month\n",
    "datas['day']=day\n",
    "datas['lat']=array.lat.values\n",
    "datas['lon']=array.lon.values\n",
    "datas['station']=k"
   ]
  },
  {
   "cell_type": "code",
   "execution_count": 49,
   "id": "fluid-shopper",
   "metadata": {},
   "outputs": [],
   "source": [
    "# Next cycle through all netcdfs and append new data to the dataframe\n",
    "k=2\n",
    "for i in os.listdir(\"/Users/nyelab/Downloads/ocldb1625613553.31148.OSD/\"):\n",
    "    if i.startswith(\"wo\"):\n",
    "        string = '/Users/nyelab/Downloads/ocldb1625613553.31148.OSD/'+i\n",
    "        array = xr.open_dataset(string)\n",
    "        data2s = pn.DataFrame(data = array.Silicate, columns = ['silicate'])\n",
    "        data2s['depth'] = array.z.values \n",
    "        year = pn.to_datetime(array.time.values).year\n",
    "        month = pn.to_datetime(array.time.values).month\n",
    "        day = pn.to_datetime(array.time.values).day\n",
    "        data2s['year']=year\n",
    "        data2s['month']=month\n",
    "        data2s['day']=day\n",
    "        data2s['lat']=array.lat.values\n",
    "        data2s['lon']=array.lon.values\n",
    "        data2s['station']=k\n",
    "        k=k+1\n",
    "        datas = datas.append(data2s)\n",
    "        array.close()"
   ]
  },
  {
   "cell_type": "code",
   "execution_count": 50,
   "id": "complicated-tuesday",
   "metadata": {},
   "outputs": [
    {
     "data": {
      "text/html": [
       "<div>\n",
       "<style scoped>\n",
       "    .dataframe tbody tr th:only-of-type {\n",
       "        vertical-align: middle;\n",
       "    }\n",
       "\n",
       "    .dataframe tbody tr th {\n",
       "        vertical-align: top;\n",
       "    }\n",
       "\n",
       "    .dataframe thead th {\n",
       "        text-align: right;\n",
       "    }\n",
       "</style>\n",
       "<table border=\"1\" class=\"dataframe\">\n",
       "  <thead>\n",
       "    <tr style=\"text-align: right;\">\n",
       "      <th></th>\n",
       "      <th>index</th>\n",
       "      <th>silicate</th>\n",
       "      <th>depth</th>\n",
       "      <th>year</th>\n",
       "      <th>month</th>\n",
       "      <th>day</th>\n",
       "      <th>lat</th>\n",
       "      <th>lon</th>\n",
       "      <th>station</th>\n",
       "    </tr>\n",
       "  </thead>\n",
       "  <tbody>\n",
       "    <tr>\n",
       "      <th>0</th>\n",
       "      <td>0</td>\n",
       "      <td>1.920000</td>\n",
       "      <td>8.733780</td>\n",
       "      <td>1993</td>\n",
       "      <td>10</td>\n",
       "      <td>25</td>\n",
       "      <td>38.237301</td>\n",
       "      <td>-73.672699</td>\n",
       "      <td>1</td>\n",
       "    </tr>\n",
       "    <tr>\n",
       "      <th>1</th>\n",
       "      <td>1</td>\n",
       "      <td>1.920000</td>\n",
       "      <td>14.886900</td>\n",
       "      <td>1993</td>\n",
       "      <td>10</td>\n",
       "      <td>25</td>\n",
       "      <td>38.237301</td>\n",
       "      <td>-73.672699</td>\n",
       "      <td>1</td>\n",
       "    </tr>\n",
       "    <tr>\n",
       "      <th>2</th>\n",
       "      <td>2</td>\n",
       "      <td>1.860000</td>\n",
       "      <td>29.078070</td>\n",
       "      <td>1993</td>\n",
       "      <td>10</td>\n",
       "      <td>25</td>\n",
       "      <td>38.237301</td>\n",
       "      <td>-73.672699</td>\n",
       "      <td>1</td>\n",
       "    </tr>\n",
       "    <tr>\n",
       "      <th>3</th>\n",
       "      <td>3</td>\n",
       "      <td>3.270000</td>\n",
       "      <td>47.336590</td>\n",
       "      <td>1993</td>\n",
       "      <td>10</td>\n",
       "      <td>25</td>\n",
       "      <td>38.237301</td>\n",
       "      <td>-73.672699</td>\n",
       "      <td>1</td>\n",
       "    </tr>\n",
       "    <tr>\n",
       "      <th>4</th>\n",
       "      <td>4</td>\n",
       "      <td>8.630000</td>\n",
       "      <td>72.836258</td>\n",
       "      <td>1993</td>\n",
       "      <td>10</td>\n",
       "      <td>25</td>\n",
       "      <td>38.237301</td>\n",
       "      <td>-73.672699</td>\n",
       "      <td>1</td>\n",
       "    </tr>\n",
       "    <tr>\n",
       "      <th>...</th>\n",
       "      <td>...</td>\n",
       "      <td>...</td>\n",
       "      <td>...</td>\n",
       "      <td>...</td>\n",
       "      <td>...</td>\n",
       "      <td>...</td>\n",
       "      <td>...</td>\n",
       "      <td>...</td>\n",
       "      <td>...</td>\n",
       "    </tr>\n",
       "    <tr>\n",
       "      <th>1513</th>\n",
       "      <td>14</td>\n",
       "      <td>13.951220</td>\n",
       "      <td>1774.000000</td>\n",
       "      <td>1982</td>\n",
       "      <td>6</td>\n",
       "      <td>13</td>\n",
       "      <td>38.208332</td>\n",
       "      <td>-72.951668</td>\n",
       "      <td>188</td>\n",
       "    </tr>\n",
       "    <tr>\n",
       "      <th>1514</th>\n",
       "      <td>15</td>\n",
       "      <td>15.024390</td>\n",
       "      <td>1970.000000</td>\n",
       "      <td>1982</td>\n",
       "      <td>6</td>\n",
       "      <td>13</td>\n",
       "      <td>38.208332</td>\n",
       "      <td>-72.951668</td>\n",
       "      <td>188</td>\n",
       "    </tr>\n",
       "    <tr>\n",
       "      <th>1515</th>\n",
       "      <td>16</td>\n",
       "      <td>16.292685</td>\n",
       "      <td>2166.000000</td>\n",
       "      <td>1982</td>\n",
       "      <td>6</td>\n",
       "      <td>13</td>\n",
       "      <td>38.208332</td>\n",
       "      <td>-72.951668</td>\n",
       "      <td>188</td>\n",
       "    </tr>\n",
       "    <tr>\n",
       "      <th>1516</th>\n",
       "      <td>17</td>\n",
       "      <td>18.243904</td>\n",
       "      <td>2357.000000</td>\n",
       "      <td>1982</td>\n",
       "      <td>6</td>\n",
       "      <td>13</td>\n",
       "      <td>38.208332</td>\n",
       "      <td>-72.951668</td>\n",
       "      <td>188</td>\n",
       "    </tr>\n",
       "    <tr>\n",
       "      <th>1517</th>\n",
       "      <td>18</td>\n",
       "      <td>21.463415</td>\n",
       "      <td>2534.000000</td>\n",
       "      <td>1982</td>\n",
       "      <td>6</td>\n",
       "      <td>13</td>\n",
       "      <td>38.208332</td>\n",
       "      <td>-72.951668</td>\n",
       "      <td>188</td>\n",
       "    </tr>\n",
       "  </tbody>\n",
       "</table>\n",
       "<p>1518 rows × 9 columns</p>\n",
       "</div>"
      ],
      "text/plain": [
       "      index   silicate        depth  year  month  day        lat        lon  \\\n",
       "0         0   1.920000     8.733780  1993     10   25  38.237301 -73.672699   \n",
       "1         1   1.920000    14.886900  1993     10   25  38.237301 -73.672699   \n",
       "2         2   1.860000    29.078070  1993     10   25  38.237301 -73.672699   \n",
       "3         3   3.270000    47.336590  1993     10   25  38.237301 -73.672699   \n",
       "4         4   8.630000    72.836258  1993     10   25  38.237301 -73.672699   \n",
       "...     ...        ...          ...   ...    ...  ...        ...        ...   \n",
       "1513     14  13.951220  1774.000000  1982      6   13  38.208332 -72.951668   \n",
       "1514     15  15.024390  1970.000000  1982      6   13  38.208332 -72.951668   \n",
       "1515     16  16.292685  2166.000000  1982      6   13  38.208332 -72.951668   \n",
       "1516     17  18.243904  2357.000000  1982      6   13  38.208332 -72.951668   \n",
       "1517     18  21.463415  2534.000000  1982      6   13  38.208332 -72.951668   \n",
       "\n",
       "      station  \n",
       "0           1  \n",
       "1           1  \n",
       "2           1  \n",
       "3           1  \n",
       "4           1  \n",
       "...       ...  \n",
       "1513      188  \n",
       "1514      188  \n",
       "1515      188  \n",
       "1516      188  \n",
       "1517      188  \n",
       "\n",
       "[1518 rows x 9 columns]"
      ]
     },
     "execution_count": 50,
     "metadata": {},
     "output_type": "execute_result"
    }
   ],
   "source": [
    "# index needed to be reset\n",
    "datas = datas.reset_index()\n",
    "datas"
   ]
  },
  {
   "cell_type": "code",
   "execution_count": 51,
   "id": "younger-conflict",
   "metadata": {},
   "outputs": [
    {
     "name": "stdin",
     "output_type": "stream",
     "text": [
      "Does your dataframe have a NYB column? y/n n\n"
     ]
    },
    {
     "name": "stdout",
     "output_type": "stream",
     "text": [
      "OK, a NYB column has been added\n"
     ]
    },
    {
     "name": "stderr",
     "output_type": "stream",
     "text": [
      "<ipython-input-8-ff8895e12bd9>:10: SettingWithCopyWarning: \n",
      "A value is trying to be set on a copy of a slice from a DataFrame\n",
      "\n",
      "See the caveats in the documentation: https://pandas.pydata.org/pandas-docs/stable/user_guide/indexing.html#returning-a-view-versus-a-copy\n",
      "  dataframe['NYB'][i] = 'NYB'\n",
      "/Users/nyelab/miniconda3/lib/python3.8/site-packages/pandas/core/indexing.py:1637: SettingWithCopyWarning: \n",
      "A value is trying to be set on a copy of a slice from a DataFrame\n",
      "\n",
      "See the caveats in the documentation: https://pandas.pydata.org/pandas-docs/stable/user_guide/indexing.html#returning-a-view-versus-a-copy\n",
      "  self._setitem_single_block(indexer, value, name)\n"
     ]
    }
   ],
   "source": [
    "#check which points are within the NYB\n",
    "datas = inNYB(datas, nyb_shape, 'lon', 'lat')"
   ]
  },
  {
   "cell_type": "code",
   "execution_count": 52,
   "id": "completed-sandwich",
   "metadata": {},
   "outputs": [],
   "source": [
    "# subset for NYB data only\n",
    "NYB_datas = datas[datas.NYB == 'NYB']"
   ]
  },
  {
   "cell_type": "code",
   "execution_count": 53,
   "id": "stone-benefit",
   "metadata": {},
   "outputs": [],
   "source": [
    "# get one each lat lon and year for each station\n",
    "LON = NYB_datas[NYB_datas.station == 4].lon\n",
    "LAT = NYB_datas[NYB_datas.station == 4].lat\n",
    "YEAR = NYB_datas[NYB_datas.station == 4].year\n",
    "\n",
    "for i in NYB_datas.station.unique()[1:]:\n",
    "    LON = LON.append(NYB_datas[NYB_datas.station == i].lon)\n",
    "    LAT = LAT.append(NYB_datas[NYB_datas.station == i].lat)\n",
    "    YEAR = YEAR.append(NYB_datas[NYB_datas.station == i].year)"
   ]
  },
  {
   "cell_type": "code",
   "execution_count": 55,
   "id": "fluid-diagnosis",
   "metadata": {},
   "outputs": [
    {
     "data": {
      "text/plain": [
       "Text(0.5, 1.0, 'Silicate')"
      ]
     },
     "execution_count": 55,
     "metadata": {},
     "output_type": "execute_result"
    },
    {
     "data": {
      "image/png": "[encoded data removed]",
      "text/plain": [
       "<Figure size 720x720 with 2 Axes>"
      ]
     },
     "metadata": {
      "needs_background": "light"
     },
     "output_type": "display_data"
    }
   ],
   "source": [
    "fig, ax = plt.subplots(figsize=(10,10), subplot_kw={'projection': ccrs.PlateCarree()})\n",
    "extent = [285,290,38.5,41.5]\n",
    "ax.set_extent(extent)\n",
    "ax.gridlines()\n",
    "ax.coastlines(resolution='50m')\n",
    "C = ax.scatter(LON,LAT,c=YEAR)\n",
    "fig.colorbar(C)\n",
    "ax.set_xticks(np.arange(-75,-69,1), crs=ccrs.PlateCarree())\n",
    "ax.set_yticks(np.arange(38,42,0.5), crs=ccrs.PlateCarree())\n",
    "ax.tick_params(labelsize=14)\n",
    "plt.title('Silicate', fontsize = 14, fontweight = 'bold')"
   ]
  },
  {
   "cell_type": "code",
   "execution_count": null,
   "id": "prospective-broadway",
   "metadata": {},
   "outputs": [],
   "source": []
  }
 ],
 "metadata": {
  "kernelspec": {
   "display_name": "Python 3",
   "language": "python",
   "name": "python3"
  },
  "language_info": {
   "codemirror_mode": {
    "name": "ipython",
    "version": 3
   },
   "file_extension": ".py",
   "mimetype": "text/x-python",
   "name": "python",
   "nbconvert_exporter": "python",
   "pygments_lexer": "ipython3",
   "version": "3.8.5"
  }
 },
 "nbformat": 4,
 "nbformat_minor": 5
}
